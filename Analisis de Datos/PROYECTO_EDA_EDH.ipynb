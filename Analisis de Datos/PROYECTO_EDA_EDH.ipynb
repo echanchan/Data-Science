{
 "cells": [
  {
   "cell_type": "markdown",
   "metadata": {
    "id": "fAJvf8rt8ZKk"
   },
   "source": [
    "# Análisis Exploratorio de Datos sobre noticias de El Diario de Hoy"
   ]
  },
  {
   "cell_type": "markdown",
   "metadata": {
    "id": "xduQRBd78owD"
   },
   "source": [
    "## Datos de referencia"
   ]
  },
  {
   "cell_type": "markdown",
   "metadata": {
    "id": "qHnByNbq82hm"
   },
   "source": [
    "En esta sección vamos a realizar un Análisis Exploratorio de Datos (EDA) a partir de la técnica de webscraping. En función de esto, se logró extraer una serie de variables para desarrollarlo. Entre las variables que pudimos obtener de la página de El Diario de Hoy fueron las siguientes:\n",
    "\n",
    "*   Título\n",
    "*   Resumen\n",
    "*   Autor\n",
    "*   Fecha\n",
    "*   Noticia\n",
    "*   Keywords\n",
    "*   URL\n",
    "*   Categoría\n",
    "\n",
    "\n",
    "\n",
    "\n",
    "\n",
    "\n",
    "\n",
    "\n"
   ]
  },
  {
   "cell_type": "markdown",
   "metadata": {
    "id": "9uLoCD39_jiK"
   },
   "source": [
    "## Importación de librerias\n"
   ]
  },
  {
   "cell_type": "code",
   "execution_count": 1,
   "metadata": {
    "id": "rKW6Yl7NAQPO"
   },
   "outputs": [],
   "source": [
    "import pandas as pd\n",
    "import seaborn as sns\n",
    "import matplotlib.pyplot as plt\n",
    "import numpy as np\n",
    "import matplotlib.dates as mdates"
   ]
  },
  {
   "cell_type": "code",
   "execution_count": 2,
   "metadata": {
    "id": "gP-vHOq1BOzy"
   },
   "outputs": [],
   "source": [
    "#Leer el archivo CSV\n",
    "df = pd.read_csv('DDH/combinado.csv')"
   ]
  },
  {
   "cell_type": "markdown",
   "metadata": {},
   "source": [
    "## Preparar el DataFrame para el análisis"
   ]
  },
  {
   "cell_type": "code",
   "execution_count": 3,
   "metadata": {},
   "outputs": [],
   "source": [
    "df.loc[df['Autor'] == 'PUBLICITY', 'Categoria'] = 'PUBLICITY'\n",
    "df = df.drop_duplicates()\n",
    "df = df[~df['Titulo'].str.contains('Foto EDH')]"
   ]
  },
  {
   "cell_type": "markdown",
   "metadata": {
    "id": "d_80GuxtBuON"
   },
   "source": [
    "## Análisis exploratorio\n"
   ]
  },
  {
   "cell_type": "code",
   "execution_count": null,
   "metadata": {
    "colab": {
     "base_uri": "https://localhost:8080/",
     "height": 710
    },
    "id": "1a7fcfSlB3mg",
    "outputId": "0e3d500c-94a8-4e4f-f922-9bc2292bdaf2"
   },
   "outputs": [],
   "source": [
    "#Muestra las primeras 5 filas\n",
    "df.head(5)"
   ]
  },
  {
   "cell_type": "code",
   "execution_count": null,
   "metadata": {
    "colab": {
     "base_uri": "https://localhost:8080/",
     "height": 210
    },
    "id": "-JgaL1qzCRcX",
    "outputId": "77e7a7a5-efce-4ded-8a5a-5b9c45fe5ffc"
   },
   "outputs": [],
   "source": [
    "# Estadísticas descriptivas de columnas numéricas\n",
    "print(df.describe())"
   ]
  },
  {
   "cell_type": "code",
   "execution_count": null,
   "metadata": {},
   "outputs": [],
   "source": [
    "# Conteo de valores únicos en la columna 'Categoria'\n",
    "print(df['Categoria'].value_counts()) "
   ]
  },
  {
   "cell_type": "code",
   "execution_count": null,
   "metadata": {},
   "outputs": [],
   "source": [
    "# Información general del DataFrame\n",
    "print(df.info())"
   ]
  },
  {
   "cell_type": "code",
   "execution_count": null,
   "metadata": {
    "colab": {
     "base_uri": "https://localhost:8080/"
    },
    "id": "PLjqzzaCDQrl",
    "outputId": "5ff88aaf-94a4-4d68-9e32-ba7a9ce9c737"
   },
   "outputs": [],
   "source": [
    "# Forma de la Data\n",
    "df.shape"
   ]
  },
  {
   "cell_type": "code",
   "execution_count": null,
   "metadata": {
    "colab": {
     "base_uri": "https://localhost:8080/"
    },
    "id": "rZxCWQR6D5V5",
    "outputId": "8e3a2db4-d5d4-4e6e-fe6f-baf9b8123221"
   },
   "outputs": [],
   "source": [
    "df.dtypes"
   ]
  },
  {
   "cell_type": "markdown",
   "metadata": {},
   "source": [
    "## Gráficas"
   ]
  },
  {
   "cell_type": "code",
   "execution_count": 5,
   "metadata": {
    "colab": {
     "base_uri": "https://localhost:8080/"
    },
    "id": "YIL7thkGFBTD",
    "outputId": "78aa3293-0ffc-4b0e-95f4-8cc7f1d29523"
   },
   "outputs": [],
   "source": [
    "#Transformar la variable Fecha a un formato adecuado para el análisis e imprimir las primeras filas\n",
    "df['Fecha'] = pd.to_datetime(df['Fecha'], format='%b %d, %Y- %H:%M', errors='coerce')\n",
    "# print(df.head())"
   ]
  },
  {
   "cell_type": "markdown",
   "metadata": {},
   "source": [
    "### Gráfico de lineas para la relación entre 'Fecha' y 'Noticia'"
   ]
  },
  {
   "cell_type": "code",
   "execution_count": null,
   "metadata": {
    "colab": {
     "base_uri": "https://localhost:8080/",
     "height": 606
    },
    "id": "wZd-hOgNJka7",
    "outputId": "9d205b8b-5249-4f4a-cf4a-9fcc9e196c7a"
   },
   "outputs": [],
   "source": [
    "# Crear un DataFrame agrupando por la fecha y contando el número de noticias por día\n",
    "data_agrupada = df.groupby(df['Fecha'].dt.date).size()\n",
    "\n",
    "# Crear y mostrar el gráfico de líneas\n",
    "plt.figure(figsize=(8, 6))\n",
    "plt.plot(data_agrupada.index, data_agrupada, marker='o', linestyle='-')\n",
    "\n",
    "# Configuración de las etiquetas de las fechas\n",
    "plt.gca().xaxis.set_major_formatter(mdates.DateFormatter('%Y-%m-%d'))\n",
    "plt.gca().xaxis.set_major_locator(mdates.AutoDateLocator())\n",
    "plt.xticks(rotation=45, ha='right')  # Rotar las fechas para mejor visualización\n",
    "\n",
    "# Configuración adicional del gráfico\n",
    "plt.xlabel('Fecha')\n",
    "plt.ylabel('Cantidad de Noticias')\n",
    "plt.title('Distribución de Noticias a lo Largo del Tiempo')\n",
    "plt.grid(True)\n",
    "\n",
    "# Ajustar el layout y mostrar el gráfico\n",
    "plt.tight_layout()  # Ajusta los parámetros del subplot para que encaje en el área del gráfico\n",
    "plt.show()"
   ]
  },
  {
   "cell_type": "markdown",
   "metadata": {},
   "source": [
    "### Gráfico de barras para la distribución de 'Dia_Semana'"
   ]
  },
  {
   "cell_type": "code",
   "execution_count": null,
   "metadata": {
    "colab": {
     "base_uri": "https://localhost:8080/",
     "height": 514
    },
    "id": "AvzHCQCdT77M",
    "outputId": "0d3f127e-8ead-46ce-9396-f8b723d5d21e"
   },
   "outputs": [],
   "source": [
    "# Extraer el día de la semana (0 es lunes, 6 es domingo)\n",
    "df['Dia_Semana'] = df['Fecha'].dt.dayofweek\n",
    "\n",
    "# Crear una copia de los datos para evitar SettingWithCopyWarning\n",
    "data_clean = df.dropna(subset=['Dia_Semana']).copy()\n",
    "\n",
    "# Convertir 'Dia_Semana' a tipo entero\n",
    "data_clean['Dia_Semana'] = data_clean['Dia_Semana'].astype(int)\n",
    "\n",
    "# Agrupar por día de la semana y contar el número de noticias\n",
    "conteo_dias_semana = data_clean.groupby('Dia_Semana').size()\n",
    "\n",
    "# Crear un mapeo de números a nombres de días\n",
    "dias = ['Lunes', 'Martes', 'Miércoles', 'Jueves', 'Viernes', 'Sábado', 'Domingo']\n",
    "conteo_dias_semana.index = [dias[dia] for dia in conteo_dias_semana.index]\n",
    "\n",
    "# Crear el gráfico de barras\n",
    "sns.barplot(x=conteo_dias_semana.index, y=conteo_dias_semana.values)\n",
    "\n",
    "# Etiquetas y título\n",
    "plt.xlabel('Día de la Semana')\n",
    "plt.ylabel('Cantidad de Noticias')\n",
    "plt.title('Cantidad de Noticias por Día de la Semana')\n",
    "plt.xticks(rotation=45)\n",
    "plt.show()"
   ]
  },
  {
   "cell_type": "markdown",
   "metadata": {},
   "source": [
    "### Gráfico Distribución por categorías"
   ]
  },
  {
   "cell_type": "code",
   "execution_count": null,
   "metadata": {},
   "outputs": [],
   "source": [
    "# Drop rows with missing values in the 'Dia_Semana' and 'Categoria' columns\n",
    "data_clean = df.dropna(subset=['Dia_Semana', 'Categoria']).copy()\n",
    "\n",
    "# Convert 'Dia_Semana' to integer type\n",
    "data_clean['Dia_Semana'] = data_clean['Dia_Semana'].astype(int)\n",
    "\n",
    "# Group by both 'Dia_Semana' and 'Categoria' and count the occurrences\n",
    "conteo_dias_categoria = data_clean.groupby(['Dia_Semana', 'Categoria']).size().unstack()\n",
    "\n",
    "# Map the numerical day of the week to the corresponding day name\n",
    "dias = ['Lunes', 'Martes', 'Miércoles', 'Jueves', 'Viernes', 'Sábado', 'Domingo']\n",
    "conteo_dias_categoria.index = [dias[dia] for dia in conteo_dias_categoria.index]\n",
    "\n",
    "# Plot the data using a heatmap\n",
    "sns.heatmap(conteo_dias_categoria, cmap='viridis', annot=True, fmt='g', cbar_kws={'label': 'Cantidad de Noticias'})\n",
    "plt.xlabel('Categoría')\n",
    "plt.ylabel('Día de la Semana')\n",
    "plt.title('Cantidad de Noticias por Día de la Semana y Categoría')\n",
    "plt.show()"
   ]
  }
 ],
 "metadata": {
  "colab": {
   "provenance": []
  },
  "kernelspec": {
   "display_name": "Python 3 (ipykernel)",
   "language": "python",
   "name": "python3"
  },
  "language_info": {
   "codemirror_mode": {
    "name": "ipython",
    "version": 3
   },
   "file_extension": ".py",
   "mimetype": "text/x-python",
   "name": "python",
   "nbconvert_exporter": "python",
   "pygments_lexer": "ipython3",
   "version": "3.10.12"
  }
 },
 "nbformat": 4,
 "nbformat_minor": 4
}
